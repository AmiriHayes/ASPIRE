{
 "cells": [
  {
   "cell_type": "code",
   "execution_count": 1,
   "metadata": {},
   "outputs": [
    {
     "name": "stderr",
     "output_type": "stream",
     "text": [
      "2023-08-10 01:02:31.204540: I tensorflow/core/platform/cpu_feature_guard.cc:182] This TensorFlow binary is optimized to use available CPU instructions in performance-critical operations.\n",
      "To enable the following instructions: AVX2 FMA, in other operations, rebuild TensorFlow with the appropriate compiler flags.\n"
     ]
    }
   ],
   "source": [
    "import tensorflow as tf"
   ]
  },
  {
   "cell_type": "markdown",
   "metadata": {},
   "source": [
    "# Multimodal Fusion"
   ]
  },
  {
   "cell_type": "markdown",
   "metadata": {},
   "source": [
    "### Model Architecture\n",
    "- Data of multiple modalities are turned into embeddings, concatenated and fed into n*n neural networks. See [here](https://google.com)"
   ]
  },
  {
   "cell_type": "code",
   "execution_count": null,
   "metadata": {},
   "outputs": [],
   "source": [
    "input_1 = tf.keras.layers.Input(shape=(28, 28, 1))\n",
    "conv2d_1 = tf.keras.layers.Conv2D(64, kernel_size=3, activation=tf.keras.activations.relu)(input_1)\n",
    "\n",
    "# Second conv layer :\n",
    "conv2d_2 = tf.keras.layers.Conv2D(32, kernel_size=3, activation=tf.keras.activations.relu)(conv2d_1)\n",
    "\n",
    "# Flatten layer :\n",
    "flatten = tf.keras.layers.Flatten()(conv2d_2)\n",
    "\n",
    "# The other input\n",
    "input_2 = tf.keras.layers.Input(shape=(1,))\n",
    "dense_2 = tf.keras.layers.Dense(5, activation=tf.keras.activations.relu)(input_2)\n",
    "\n",
    "# Concatenate\n",
    "concat = tf.keras.layers.Concatenate()([flatten, dense_2])\n",
    "\n",
    "n_classes = 4\n",
    "# output layer\n",
    "output = tf.keras.layers.Dense(units=n_classes, activation=tf.keras.activations.softmax)(concat)\n",
    "\n",
    "full_model = tf.keras.Model(inputs=[input_1, input_2], outputs=[output])\n",
    "\n",
    "print(full_model.summary())"
   ]
  }
 ],
 "metadata": {
  "kernelspec": {
   "display_name": "Python 3",
   "language": "python",
   "name": "python3"
  },
  "language_info": {
   "codemirror_mode": {
    "name": "ipython",
    "version": 3
   },
   "file_extension": ".py",
   "mimetype": "text/x-python",
   "name": "python",
   "nbconvert_exporter": "python",
   "pygments_lexer": "ipython3",
   "version": "3.11.3"
  },
  "orig_nbformat": 4
 },
 "nbformat": 4,
 "nbformat_minor": 2
}
