{
 "cells": [
  {
   "cell_type": "code",
   "execution_count": 48,
   "metadata": {},
   "outputs": [],
   "source": [
    "# API KEYS\n",
    "from dotenv import dotenv_values\n",
    "env = dotenv_values('.env') "
   ]
  },
  {
   "cell_type": "code",
   "execution_count": null,
   "id": "0c425006",
   "metadata": {},
   "outputs": [],
   "source": [
    "# Various Imports:\n",
    "import json\n",
    "import requests\n",
    "\n",
    "import numpy as np\n",
    "import pandas as pd\n",
    "import networkx as nx\n",
    "import osmnx as ox\n",
    "\n",
    "# import tensorflow as tf"
   ]
  },
  {
   "cell_type": "markdown",
   "id": "f9638fab",
   "metadata": {},
   "source": [
    "# Data Preprocessing\n",
    "\n"
   ]
  },
  {
   "cell_type": "markdown",
   "id": "a76f491a",
   "metadata": {},
   "source": [
    "### Preliminary Data Types\n",
    "1. Weather & Sunset\n",
    "2. Aesthetic\n",
    "4. Safety\n",
    "5. Infrastructure"
   ]
  },
  {
   "cell_type": "code",
   "execution_count": 64,
   "id": "2eb6ff9a",
   "metadata": {},
   "outputs": [
    {
     "name": "stdout",
     "output_type": "stream",
     "text": [
      "{'New_York': {'state': 'NY', 'country': 'USA', 'coords': [40.71427, -74.00597], 'timezone': 'New_York'}, 'Los_Angeles': {'state': 'CA', 'country': 'USA', 'coords': [34.0522, 118.2437], 'timezone': 'Los_Angeles'}, 'Chicago': {'state': 'IL', 'country': 'USA', 'coords': [41.8781, 87.6298], 'timezone': 'Chicago'}, 'Houston': {'state': 'TX', 'country': 'USA', 'coords': [29.7604, 95.3698], 'timezone': 'Denver'}, 'Pheonix': {'state': 'AZ', 'country': 'USA', 'coords': [33.4484, 112.074], 'timezone': 'Denver'}, 'Philadelphia': {'state': 'PA', 'country': 'USA', 'coords': [39.9526, 75.1652], 'timezone': 'New_York'}}\n"
     ]
    }
   ],
   "source": [
    "# Get cities to make predictions for (0 / 4)\n",
    "with open(\"cities.json\") as json_file:\n",
    "  cities = json.load(json_file)\n",
    "  print(cities)"
   ]
  },
  {
   "cell_type": "code",
   "execution_count": 27,
   "id": "76708b57",
   "metadata": {},
   "outputs": [
    {
     "name": "stdout",
     "output_type": "stream",
     "text": [
      "       0      1      2     3        4\n",
      "0  76.34  62.22  12.27  0.06  1207.67\n",
      "1  83.72  77.67   8.76  0.03   246.24\n",
      "2  83.19  36.16   9.75  0.00   504.24\n",
      "3  46.89  91.40   6.27  0.13   388.95\n",
      "4  75.76  81.30   5.80  0.03   328.76\n",
      "5  60.12  50.14  10.30  0.03   609.62\n"
     ]
    }
   ],
   "source": [
    "# Weather & Sunset Data (1 / 4)\n",
    "\n",
    "# Source: Open Meteo\n",
    "# Reference: https://open-meteo.com/en/docs\n",
    "# Reliability: 10\n",
    "\n",
    "cities = [\"New_York\", \"Los_Angeles\", \"Chicago\", \"Houston\", \"Pheonix\", \"Philadelphia\"]\n",
    "coords = [[40.71427, -74.00597], [34.0522, 118.2437], [41.8781, 87.6298], [29.7604, 95.3698], [33.4484, 112.0740], [39.9526, 75.1652]]\n",
    "timezone = [\"New_York\", \"Los_Angeles\", \"Chicago\", \"Denver\", \"Denver\", \"New_York\"]\n",
    "\n",
    "weather_data = []\n",
    "for i, city in enumerate(cities):\n",
    "  URL = f\"https://api.open-meteo.com/v1/forecast?latitude={coords[i][0]}&longitude={coords[i][1]}&daily=sunset&timezone=America%2F{timezone[i]}&past_days=14&hourly=temperature_2m,relativehumidity_2m,windspeed_10m,rain&temperature_unit=fahrenheit\"\n",
    "  response = requests.get(url = URL).json()\n",
    "\n",
    "  if response:\n",
    "    # Weather\n",
    "    temp_avg = round(sum(response[\"hourly\"][\"temperature_2m\"]) / len(response[\"hourly\"][\"temperature_2m\"]), 2)\n",
    "    humidity_avg = round(sum(response[\"hourly\"][\"relativehumidity_2m\"]) / len(response[\"hourly\"][\"relativehumidity_2m\"]), 2)\n",
    "    windspeed_avg = round(sum(response[\"hourly\"][\"windspeed_10m\"]) / len(response[\"hourly\"][\"windspeed_10m\"]), 2)\n",
    "    rain_avg = round(sum(response[\"hourly\"][\"rain\"]) / len(response[\"hourly\"][\"rain\"]), 2)\n",
    "\n",
    "    # Sunset\n",
    "    sunset_seconds, ftr = [], [60, 1]\n",
    "    sunset_res = [val.split(\"T\")[1] for val in response[\"daily\"][\"sunset\"]]\n",
    "    for val in sunset_res: \n",
    "      sunset_seconds.append(sum([a*b for a,b in zip(ftr, map(int,val.split(':')))]))\n",
    "    sunset_avg = round(sum(sunset_seconds) / len(sunset_seconds), 2)\n",
    "\n",
    "    city_data = [temp_avg, humidity_avg, windspeed_avg, rain_avg, sunset_avg]\n",
    "    weather_data.append(city_data)\n",
    "\n",
    "weather_data = pd.DataFrame(weather_data)\n",
    "print(weather_data)"
   ]
  },
  {
   "cell_type": "code",
   "execution_count": null,
   "id": "3089d434",
   "metadata": {},
   "outputs": [],
   "source": [
    "# Aesthetic Data (2 / 4)\n",
    "\n",
    "\n",
    "\n"
   ]
  },
  {
   "cell_type": "code",
   "execution_count": 113,
   "id": "ed1b980b",
   "metadata": {},
   "outputs": [
    {
     "name": "stdout",
     "output_type": "stream",
     "text": [
      "      0      1      2     3   4   5    6      7      8       9   10      11\n",
      "0  240.7  363.8   90.6   5.2  -1  -1  4.2  165.5  101.7  1143.6  -1  1410.7\n",
      "1  288.7  442.0  113.6  29.9  -1  -1  5.6  369.7  427.6  1341.7  -1  2138.9\n",
      "2  278.9  425.9   97.4  12.6  -1  -1  9.1  246.4  169.5  1143.5  -1  1559.4\n",
      "3  302.5  446.5   91.4  10.1  -1  -1  6.6  370.7  287.0  1587.3  -1  2245.0\n",
      "4  350.2  484.8   83.7  17.2  -1  -1  6.9  330.0  241.7  1656.0  -1  2227.7\n",
      "5  264.6  389.5   83.9   4.3  -1  -1  7.9  248.6  121.0  1274.5  -1  1644.1\n"
     ]
    }
   ],
   "source": [
    "# Safety Data (3 / 4)\n",
    "\n",
    "# Source: FBI\n",
    "# Reference: https://cde.ucr.cjis.gov/LATEST/webapp/#/pages/docApi\n",
    "# Reliability: 6\n",
    "\n",
    "crimes = [\"aggravated-assault\", \"violent-crime\", \"robbery\", \"arson\", \"human-trafficing\", \"rape-legacy\", \"homicide\", \"burglary\", \"motor-vehicle-theft\", \"larceny\", \"rape\", \"property-crime\"]\n",
    "\n",
    "state_crimes = []\n",
    "KEY = env['FBI']\n",
    "for city in cities.keys():\n",
    "    crime_list = []\n",
    "    state = cities[city]['state']\n",
    "    for crime in crimes:\n",
    "        URL = f\"https://api.usa.gov/crime/fbi/cde/estimate/state/{state}/{crime}?from=2020&to=2023&API_KEY={KEY}\"\n",
    "        response = requests.get(url = URL).json()\n",
    "\n",
    "        if response and response[\"results\"] != \"null\":\n",
    "            response = response[\"results\"]\n",
    "            try: \n",
    "                crime_stat = next(iter(response.values()))\n",
    "            except:\n",
    "                crime_list.append(-1)\n",
    "                continue\n",
    "            crime_stat = next(iter(crime_stat.values()))\n",
    "            if isinstance(crime_stat, (int, float, complex)) and not isinstance(crime_stat, bool):\n",
    "                crime_list.append(crime_stat)\n",
    "            else:\n",
    "                crime_list.append(-1)\n",
    "        else:\n",
    "            crime_list.append(-1)\n",
    "    state_crimes.append(crime_list)\n",
    "\n",
    "state_crimes = pd.DataFrame(state_crimes)\n",
    "print(state_crimes)"
   ]
  },
  {
   "cell_type": "code",
   "execution_count": 114,
   "id": "664ae015",
   "metadata": {},
   "outputs": [
    {
     "ename": "",
     "evalue": "",
     "output_type": "error",
     "traceback": [
      "\u001b[1;31mCannot execute code, session has been disposed. Please try restarting the Kernel."
     ]
    },
    {
     "ename": "",
     "evalue": "",
     "output_type": "error",
     "traceback": [
      "\u001b[1;31mThe Kernel crashed while executing code in the the current cell or a previous cell. Please review the code in the cell(s) to identify a possible cause of the failure. Click <a href='https://aka.ms/vscodeJupyterKernelCrash'>here</a> for more info. View Jupyter <a href='command:jupyter.viewOutput'>log</a> for further details."
     ]
    }
   ],
   "source": [
    "# Infrastructure Data (4 / 4)\n",
    "\n",
    "# Source: OpenStreetMaps\n",
    "# Reference: https://osmnx.readthedocs.io/en/stable/\n",
    "# Reliability: 10\n",
    "\n",
    "transportation = [\"walk\", \"bike\", \"drive\"]\n",
    "\n",
    "connection_data = []\n",
    "for city in cities.keys():\n",
    "  if city == 'New_York':\n",
    "    city_maps = []\n",
    "    city_name = f\"{city}, {cities[city]['state']}, {cities[city]['country']}\"\n",
    "\n",
    "    for method in transportation:\n",
    "      G = ox.graph_from_place(city_name, network_type=method)\n",
    "      city_maps.append(nx.adjacency_matrix(G).todense())\n",
    "\n",
    "    connection_data.append(city_maps)\n",
    "\n",
    "connection_data = pd.DataFrame(connection_data)\n",
    "print(connection_data)"
   ]
  },
  {
   "cell_type": "markdown",
   "id": "cd9c826e",
   "metadata": {},
   "source": [
    "# Multimodal Fusion"
   ]
  },
  {
   "cell_type": "code",
   "execution_count": null,
   "id": "16e801aa",
   "metadata": {},
   "outputs": [],
   "source": [
    "input_1 = tf.keras.layers.Input(shape=(28, 28, 1))\n",
    "conv2d_1 = tf.keras.layers.Conv2D(64, kernel_size=3,\n",
    "                                  activation=tf.keras.activations.relu)(input_1)\n",
    "\n",
    "# Second conv layer :\n",
    "conv2d_2 = tf.keras.layers.Conv2D(32, kernel_size=3,\n",
    "                                  activation=tf.keras.activations.relu)(conv2d_1)\n",
    "\n",
    "# Flatten layer :\n",
    "flatten = tf.keras.layers.Flatten()(conv2d_2)\n",
    "\n",
    "# The other input\n",
    "input_2 = tf.keras.layers.Input(shape=(1,))\n",
    "dense_2 = tf.keras.layers.Dense(5, activation=tf.keras.activations.relu)(input_2)\n",
    "\n",
    "# Concatenate\n",
    "concat = tf.keras.layers.Concatenate()([flatten, dense_2])\n",
    "\n",
    "n_classes = 4\n",
    "# output layer\n",
    "output = tf.keras.layers.Dense(units=n_classes,\n",
    "                               activation=tf.keras.activations.softmax)(concat)\n",
    "\n",
    "full_model = tf.keras.Model(inputs=[input_1, input_2], outputs=[output])\n",
    "\n",
    "print(full_model.summary())"
   ]
  }
 ],
 "metadata": {
  "kernelspec": {
   "display_name": "Python 3",
   "language": "python",
   "name": "python3"
  },
  "language_info": {
   "codemirror_mode": {
    "name": "ipython",
    "version": 3
   },
   "file_extension": ".py",
   "mimetype": "text/x-python",
   "name": "python",
   "nbconvert_exporter": "python",
   "pygments_lexer": "ipython3",
   "version": "3.11.4"
  }
 },
 "nbformat": 4,
 "nbformat_minor": 5
}
